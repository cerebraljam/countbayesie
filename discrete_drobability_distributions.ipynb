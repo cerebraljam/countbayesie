{
 "cells": [
  {
   "cell_type": "markdown",
   "metadata": {},
   "source": [
    "# Discrete Probability Distributions\n",
    "Ref: https://www.countbayesie.com/blog/2015/3/17/interrogating-probability-distributions\n",
    "\n",
    "Equation to obtain the discrete probability (dp) of having n values in k attempts\n",
    "\n",
    "$dp$ $=$ $\\binom{n}{k}$ $p^k(1-p)^{n-k}$"
   ]
  },
  {
   "cell_type": "code",
   "execution_count": 1,
   "metadata": {
    "collapsed": false
   },
   "outputs": [],
   "source": [
    "import math\n",
    "import scipy\n",
    "\n",
    "import matplotlib.pyplot as plt\n",
    "import numpy as np\n",
    "from matplotlib import colors\n",
    "from scipy import integrate\n",
    "from scipy.stats import beta"
   ]
  },
  {
   "cell_type": "code",
   "execution_count": 2,
   "metadata": {
    "collapsed": false
   },
   "outputs": [
    {
     "name": "stdout",
     "output_type": "stream",
     "text": [
      "Probability of having 10 tails is 0.028\n"
     ]
    },
    {
     "data": {
      "image/png": "[encoded data removed]",
      "text/plain": [
       "<matplotlib.figure.Figure at 0x10e8fb400>"
      ]
     },
     "metadata": {},
     "output_type": "display_data"
    }
   ],
   "source": [
    "def scipyFactorial(k, n):\n",
    "    return scipy.special.binom(k, n)\n",
    "\n",
    "def probabilityMassFunction(n, k, p):\n",
    "    heads = scipyFactorial(k,n)\n",
    "    tails = math.pow(p, n) * math.pow(1-p, k-n)\n",
    "    return heads * tails\n",
    "\n",
    "n=10\n",
    "k=30\n",
    "p=0.5\n",
    "print(\"Probability of having {} tails is {:0.3f}\".format(n, probabilityMassFunction(n,k,p)))\n",
    "\n",
    "# x = [i for i in range(k)]\n",
    "x = np.linspace(0, k, 30*5)\n",
    "y = [probabilityMassFunction(i,k,p) for i in x]\n",
    "\n",
    "plt.figure(figsize=(10,5))\n",
    "plt.stem(x, y, use_line_collection=True)\n",
    "plt.show()"
   ]
  },
  {
   "cell_type": "code",
   "execution_count": null,
   "metadata": {
    "collapsed": false
   },
   "outputs": [
    {
     "name": "stdout",
     "output_type": "stream",
     "text": [
      "Probability of having between 18 and 25 tails (inclusive) is 0.181\n"
     ]
    }
   ],
   "source": [
    "first = 18\n",
    "last = 25\n",
    "\n",
    "def probabilityMassFunctionRange(first, last, k, p):\n",
    "    values = [x for x in range(first,last, 1)]\n",
    "    total = 0\n",
    "    for i in values:\n",
    "        total += probabilityMassFunction(i,k,p)\n",
    "    return total\n",
    "\n",
    "print(\"Probability of having between {} and {} tails (inclusive) is {:0.3f}\".format(first, last, probabilityMassFunctionRange(first, last, k, p)))"
   ]
  },
  {
   "cell_type": "markdown",
   "metadata": {},
   "source": [
    "$Beta$($\\alpha$,$\\beta$) = $\\frac{x^{\\alpha - 1}(1-x)^{\\beta -1}}{B(\\alpha ,\\beta)}$"
   ]
  },
  {
   "cell_type": "code",
   "execution_count": null,
   "metadata": {
    "collapsed": false
   },
   "outputs": [
    {
     "name": "stdout",
     "output_type": "stream",
     "text": [
      "mean: 0.36666666666666664, variance: 0.007491039426523298, skew: 0.19256515705838026, kurt: -0.12788168769030014\n"
     ]
    },
    {
     "data": {
      "text/plain": [
       "[<matplotlib.lines.Line2D at 0x111f9c4e0>]"
      ]
     },
     "execution_count": 4,
     "metadata": {},
     "output_type": "execute_result"
    }
   ],
   "source": [
    "a, b = 11, 19\n",
    "mean, var, skew, kurt = beta.stats(a, b, moments='mvsk')\n",
    "print(\"mean: {}, variance: {}, skew: {}, kurt: {}\".format(mean, var, skew, kurt))\n",
    "\n",
    "x = np.linspace(beta.ppf(0.0001, a, b),\n",
    "                beta.ppf(0.9999, a, b), 100)\n",
    "\n",
    "plt.plot(x, beta.pdf(x, a, b),\n",
    "       'r-', lw=5, alpha=0.5, label='beta pdf')"
   ]
  },
  {
   "cell_type": "markdown",
   "metadata": {},
   "source": [
    "## \"What is the probability that ppp is between 0.2 and 0.5?\""
   ]
  },
  {
   "cell_type": "code",
   "execution_count": null,
   "metadata": {
    "collapsed": false
   },
   "outputs": [],
   "source": [
    "minimum = 0.2\n",
    "maximum = 0.5\n",
    "\n",
    "ii = integrate.quad(lambda x: beta.pdf(x, a, b), minimum, maximum)\n",
    "print(\"What is the probability that p is between {} and {}?: {:0.3f}\".format(minimum, maximum, ii[0]))"
   ]
  }
 ],
 "metadata": {
  "kernelspec": {
   "display_name": "Python 3",
   "language": "python",
   "name": "python3"
  },
  "language_info": {
   "codemirror_mode": {
    "name": "ipython",
    "version": 3
   },
   "file_extension": ".py",
   "mimetype": "text/x-python",
   "name": "python",
   "nbconvert_exporter": "python",
   "pygments_lexer": "ipython3",
   "version": "3.6.0"
  }
 },
 "nbformat": 4,
 "nbformat_minor": 2
}
